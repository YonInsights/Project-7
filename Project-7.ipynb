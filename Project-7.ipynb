{
 "cells": [
  {
   "cell_type": "code",
   "execution_count": 7,
   "metadata": {},
   "outputs": [],
   "source": [
    "import pandas as pd"
   ]
  },
  {
   "cell_type": "code",
   "execution_count": 8,
   "metadata": {},
   "outputs": [],
   "source": [
    "data=pd.read_csv(\"D:\\Data Analyis\\Python practice\\Projects\\Project-7\\Census+2011.csv\")"
   ]
  },
  {
   "cell_type": "code",
   "execution_count": 9,
   "metadata": {},
   "outputs": [
    {
     "data": {
      "text/html": [
       "<div>\n",
       "<style scoped>\n",
       "    .dataframe tbody tr th:only-of-type {\n",
       "        vertical-align: middle;\n",
       "    }\n",
       "\n",
       "    .dataframe tbody tr th {\n",
       "        vertical-align: top;\n",
       "    }\n",
       "\n",
       "    .dataframe thead th {\n",
       "        text-align: right;\n",
       "    }\n",
       "</style>\n",
       "<table border=\"1\" class=\"dataframe\">\n",
       "  <thead>\n",
       "    <tr style=\"text-align: right;\">\n",
       "      <th></th>\n",
       "      <th>District_code</th>\n",
       "      <th>State_name</th>\n",
       "      <th>District_name</th>\n",
       "      <th>Population</th>\n",
       "      <th>Male</th>\n",
       "      <th>Female</th>\n",
       "      <th>Literate</th>\n",
       "      <th>Workers</th>\n",
       "      <th>Male_Workers</th>\n",
       "      <th>Female_Workers</th>\n",
       "      <th>...</th>\n",
       "      <th>Christians</th>\n",
       "      <th>Sikhs</th>\n",
       "      <th>Buddhists</th>\n",
       "      <th>Jains</th>\n",
       "      <th>Secondary_Education</th>\n",
       "      <th>Higher_Education</th>\n",
       "      <th>Graduate_Education</th>\n",
       "      <th>Age_Group_0_29</th>\n",
       "      <th>Age_Group_30_49</th>\n",
       "      <th>Age_Group_50</th>\n",
       "    </tr>\n",
       "  </thead>\n",
       "  <tbody>\n",
       "    <tr>\n",
       "      <th>0</th>\n",
       "      <td>1</td>\n",
       "      <td>JAMMU AND KASHMIR</td>\n",
       "      <td>Kupwara</td>\n",
       "      <td>870354</td>\n",
       "      <td>474190</td>\n",
       "      <td>396164</td>\n",
       "      <td>439654</td>\n",
       "      <td>229064</td>\n",
       "      <td>190899</td>\n",
       "      <td>38165</td>\n",
       "      <td>...</td>\n",
       "      <td>1700</td>\n",
       "      <td>5600</td>\n",
       "      <td>66</td>\n",
       "      <td>39</td>\n",
       "      <td>74948</td>\n",
       "      <td>39709</td>\n",
       "      <td>21751</td>\n",
       "      <td>600759</td>\n",
       "      <td>178435</td>\n",
       "      <td>89679</td>\n",
       "    </tr>\n",
       "    <tr>\n",
       "      <th>1</th>\n",
       "      <td>2</td>\n",
       "      <td>JAMMU AND KASHMIR</td>\n",
       "      <td>Badgam</td>\n",
       "      <td>753745</td>\n",
       "      <td>398041</td>\n",
       "      <td>355704</td>\n",
       "      <td>335649</td>\n",
       "      <td>214866</td>\n",
       "      <td>162578</td>\n",
       "      <td>52288</td>\n",
       "      <td>...</td>\n",
       "      <td>1489</td>\n",
       "      <td>5559</td>\n",
       "      <td>47</td>\n",
       "      <td>6</td>\n",
       "      <td>66459</td>\n",
       "      <td>41367</td>\n",
       "      <td>27950</td>\n",
       "      <td>503223</td>\n",
       "      <td>160933</td>\n",
       "      <td>88978</td>\n",
       "    </tr>\n",
       "  </tbody>\n",
       "</table>\n",
       "<p>2 rows × 25 columns</p>\n",
       "</div>"
      ],
      "text/plain": [
       "   District_code         State_name District_name  Population    Male  Female  \\\n",
       "0              1  JAMMU AND KASHMIR       Kupwara      870354  474190  396164   \n",
       "1              2  JAMMU AND KASHMIR        Badgam      753745  398041  355704   \n",
       "\n",
       "   Literate  Workers  Male_Workers  Female_Workers  ...  Christians  Sikhs  \\\n",
       "0    439654   229064        190899           38165  ...        1700   5600   \n",
       "1    335649   214866        162578           52288  ...        1489   5559   \n",
       "\n",
       "   Buddhists  Jains  Secondary_Education  Higher_Education  \\\n",
       "0         66     39                74948             39709   \n",
       "1         47      6                66459             41367   \n",
       "\n",
       "   Graduate_Education  Age_Group_0_29  Age_Group_30_49  Age_Group_50  \n",
       "0               21751          600759           178435         89679  \n",
       "1               27950          503223           160933         88978  \n",
       "\n",
       "[2 rows x 25 columns]"
      ]
     },
     "execution_count": 9,
     "metadata": {},
     "output_type": "execute_result"
    }
   ],
   "source": [
    "data.head(2)"
   ]
  },
  {
   "cell_type": "code",
   "execution_count": 10,
   "metadata": {},
   "outputs": [
    {
     "ename": "AttributeError",
     "evalue": "'Styler' object has no attribute 'hide_index'",
     "output_type": "error",
     "traceback": [
      "\u001b[1;31m---------------------------------------------------------------------------\u001b[0m",
      "\u001b[1;31mAttributeError\u001b[0m                            Traceback (most recent call last)",
      "Cell \u001b[1;32mIn[10], line 1\u001b[0m\n\u001b[1;32m----> 1\u001b[0m \u001b[43mdata\u001b[49m\u001b[38;5;241;43m.\u001b[39;49m\u001b[43mstyle\u001b[49m\u001b[38;5;241;43m.\u001b[39;49m\u001b[43mhide_index\u001b[49m()\n",
      "\u001b[1;31mAttributeError\u001b[0m: 'Styler' object has no attribute 'hide_index'"
     ]
    }
   ],
   "source": [
    "data.style.hide_index()"
   ]
  },
  {
   "cell_type": "code",
   "execution_count": 12,
   "metadata": {},
   "outputs": [],
   "source": [
    "data_string = data.to_string(index=False)\n",
    "\n"
   ]
  }
 ],
 "metadata": {
  "kernelspec": {
   "display_name": "Python 3",
   "language": "python",
   "name": "python3"
  },
  "language_info": {
   "codemirror_mode": {
    "name": "ipython",
    "version": 3
   },
   "file_extension": ".py",
   "mimetype": "text/x-python",
   "name": "python",
   "nbconvert_exporter": "python",
   "pygments_lexer": "ipython3",
   "version": "3.11.9"
  }
 },
 "nbformat": 4,
 "nbformat_minor": 2
}
